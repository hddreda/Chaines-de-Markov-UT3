{
  "metadata": {
    "kernelspec": {
      "name": "python",
      "display_name": "Python (Pyodide)",
      "language": "python"
    },
    "language_info": {
      "codemirror_mode": "sql",
      "file_extension": "",
      "mimetype": "",
      "name": "sql",
      "version": "3.32.3"
    }
  },
  "nbformat_minor": 5,
  "nbformat": 4,
  "cells": [
    {
      "id": "0b67516b",
      "cell_type": "markdown",
      "source": "# Simulations sur les Chaînes de Markov à espace d'états fini",
      "metadata": {}
    },
    {
      "id": "d10d5293",
      "cell_type": "markdown",
      "source": "On commence par importer les bibliothèques usuelles :",
      "metadata": {}
    },
    {
      "id": "0987c556",
      "cell_type": "code",
      "source": "import numpy as np\nimport matplotlib.pyplot as plt\nfrom scipy.stats import norm",
      "metadata": {
        "trusted": true
      },
      "outputs": [],
      "execution_count": null
    },
    {
      "id": "d536c35f-721e-443d-ae34-0422a29e0188",
      "cell_type": "markdown",
      "source": "# Définitions",
      "metadata": {}
    },
    {
      "id": "da2b033a",
      "cell_type": "markdown",
      "source": "Définition de la chaîne de Markov à 5 états",
      "metadata": {}
    },
    {
      "id": "d601b60c",
      "cell_type": "code",
      "source": "class MarkovChain:\n    def __init__(self, transition_matrix):\n        self.transition_matrix = transition_matrix\n        self.num_states = transition_matrix.shape[0]\n\n    def next_state(self, current_state):\n        return np.random.choice(\n            self.num_states,\n            p=self.transition_matrix[current_state]\n        )",
      "metadata": {
        "trusted": true
      },
      "outputs": [],
      "execution_count": null
    },
    {
      "id": "15254098",
      "cell_type": "markdown",
      "source": "Définition des vecteurs de déplacement associés à chaque état météo",
      "metadata": {}
    },
    {
      "id": "d64a6c29",
      "cell_type": "code",
      "source": "class SailingBoat:\n    def __init__(self, markov_chain, vectors, noise_level):\n        self.markov_chain = markov_chain\n        self.vectors = vectors\n        self.noise_level = noise_level\n        self.position = np.array([0.0, 0.0])\n        self.state = 0\n\n    def move(self):\n        self.state = self.markov_chain.next_state(self.state)\n        vector = self.vectors[self.state]\n        noise = np.random.normal(0, self.noise_level, size=vector.shape)\n        self.position += vector + noise\n\n    def get_position(self):\n        return self.position\n    \n    def get_state(self):\n        return self.state\n\n    def reset_position(self):\n        self.position = np.array([0.0, 0.0])",
      "metadata": {
        "trusted": true
      },
      "outputs": [],
      "execution_count": null
    },
    {
      "id": "7042561a",
      "cell_type": "markdown",
      "source": "Définition des matrices de transition et des vecteurs de déplacement",
      "metadata": {}
    },
    {
      "id": "ff1021fd",
      "cell_type": "code",
      "source": "transition_matrix = np.array([\n    [0.5, 0.3, 0.1, 0.05, 0.05],\n    [0.2, 0.5, 0.2, 0.05, 0.05],\n    [0.1, 0.2, 0.5, 0.1, 0.1],\n    [0.05, 0.1, 0.2, 0.5, 0.15],\n    [0.05, 0.05, 0.1, 0.2, 0.6]\n])\n\nvectors = [\n    np.array([1.0, 0.0]),   # Beau temps\n    np.array([0.5, 0.5]),   # Temps nuageux\n    np.array([0.0, 1.0]),   # Pluie\n    np.array([-0.5, 0.5]),  # Tempête\n    np.array([-1.0, 0.0])   # Ouragan\n]\n\nnoise_level = 0.1",
      "metadata": {
        "trusted": true
      },
      "outputs": [],
      "execution_count": null
    },
    {
      "id": "123fa5c9",
      "cell_type": "markdown",
      "source": "Initialisation de la chaîne de Markov et du bateau",
      "metadata": {}
    },
    {
      "id": "37c7eca3-94a7-46a8-9e92-1ee902ad2abd",
      "cell_type": "code",
      "source": "markov_chain = MarkovChain(transition_matrix)\nsailing_boat = SailingBoat(markov_chain, vectors, noise_level)",
      "metadata": {
        "trusted": true
      },
      "outputs": [],
      "execution_count": null
    },
    {
      "id": "8fe4696a",
      "cell_type": "markdown",
      "source": "## 2 - Simulations",
      "metadata": {}
    },
    {
      "id": "882690c0",
      "cell_type": "markdown",
      "source": "# Evolution du voilier sur le plan",
      "metadata": {}
    },
    {
      "id": "39bf6bc8-4f5a-488f-a240-2a6dea03546d",
      "cell_type": "code",
      "source": "\nnum_steps = 1000\npositions = np.zeros((num_steps, 2))\n\nfor i in range(num_steps):\n    sailing_boat.move()\n    positions[i] = sailing_boat.get_position()\n\n# Visualisation de l évolution du voilier\nplt.figure(figsize=(10, 6))\nplt.plot(positions[:, 0], positions[:, 1], marker='o', markersize=2, linestyle='-', alpha=0.6)\nplt.title('Évolution du voilier sur le plan')\nplt.xlabel('X')\nplt.ylabel('Y')\nplt.grid(True)\nplt.show()",
      "metadata": {
        "trusted": true
      },
      "outputs": [],
      "execution_count": null
    },
    {
      "id": "61021574",
      "cell_type": "markdown",
      "source": "# Mesure Invariante",
      "metadata": {}
    },
    {
      "id": "375d3d72",
      "cell_type": "code",
      "source": "def invariant_measure(transition_matrix, num_iterations=10000):\n    num_states = transition_matrix.shape[0]\n    state_counts = np.zeros(num_states)\n    state = 0\n\n    for _ in range(num_iterations):\n        state_counts[state] += 1\n        state = np.random.choice(num_states, p=transition_matrix[state])\n\n    return state_counts / num_iterations\n\nmeasure = invariant_measure(transition_matrix)\nplt.figure(figsize=(10, 6))\nplt.bar(range(5), measure, tick_label=['Beau', 'Nuageux', 'Pluie', 'Tempête', 'Ouragan'])\nplt.title('Mesure invariante de la chaîne de Markov')\nplt.xlabel('États météorologiques')\nplt.ylabel('Probabilité')\nplt.grid(True)\nplt.show()",
      "metadata": {
        "trusted": true
      },
      "outputs": [],
      "execution_count": null
    },
    {
      "id": "3bd59859",
      "cell_type": "markdown",
      "source": "Voici une simulation permettant de comprendre l'utilité de la mesure invariante",
      "metadata": {}
    },
    {
      "id": "eaf7e403",
      "cell_type": "code",
      "source": "def empirical_distribution(sailing_boat, num_steps):\n    state_counts = np.zeros(markov_chain.num_states)\n    for _ in range(num_steps):\n        sailing_boat.move()\n        state_counts[sailing_boat.get_state()] += 1\n    return state_counts / num_steps\n\nnum_steps_long = 100000\nempirical_dist = empirical_distribution(SailingBoat(markov_chain, vectors, noise_level), num_steps_long)\n\nplt.figure(figsize=(10, 6))\nplt.bar(range(5), empirical_dist, tick_label=['Beau', 'Nuageux', 'Pluie', 'Tempête', 'Ouragan'], alpha=0.7, label='Distribution empirique')\nplt.bar(range(5), measure, tick_label=['Beau', 'Nuageux', 'Pluie', 'Tempête', 'Ouragan'], alpha=0.7, label='Mesure invariante', color='orange')\nplt.title('Comparaison entre la distribution empirique et la mesure invariante')\nplt.xlabel('États météorologiques')\nplt.ylabel('Probabilité')\nplt.legend()\nplt.grid(True)\nplt.show()",
      "metadata": {
        "trusted": true
      },
      "outputs": [],
      "execution_count": null
    },
    {
      "id": "32e03890",
      "cell_type": "markdown",
      "source": "# Théorème ergodique",
      "metadata": {}
    },
    {
      "id": "2ab687a5",
      "cell_type": "code",
      "source": "def ergodic_simulation(sailing_boat, num_steps):\n    positions = np.zeros((num_steps, 2))\n    for i in range(num_steps):\n        sailing_boat.move()\n        positions[i] = sailing_boat.get_position()\n    return positions\n\n# Paramètres pour les simulations ergodiques\nnum_simulations = 100\nnum_steps = 1000\n\n# Effectuer plusieurs simulations ergodiques\nergodic_positions = [ergodic_simulation(SailingBoat(markov_chain, vectors, noise_level), num_steps) for _ in range(num_simulations)]\n\n# Calculer les positions finales pour déterminer le rayon\nfinal_positions = np.array([positions[-1] for positions in ergodic_positions])\ncenter = np.mean(final_positions, axis=0)\ndistances = np.linalg.norm(final_positions - center, axis=1)\nradius = np.percentile(distances, 95)\n\n# Visualisation des simulations ergodiques avec le cercle de 95% de confiance\nplt.figure(figsize=(10, 6))\nfor positions in ergodic_positions:\n    plt.plot(positions[:, 0], positions[:, 1], marker='o', markersize=1, linestyle='-', alpha=0.6)\ncircle = plt.Circle(center, radius, color='r', fill=False, linestyle='--', linewidth=2, label='Cercle de 95% de confiance')\nplt.gca().add_patch(circle)\nplt.scatter(final_positions[:, 0], final_positions[:, 1], color='b', s=10, label='Positions finales')\nplt.scatter(center[0], center[1], color='r', s=50, label='Centre de la distribution')\nplt.title('Simulations du théorème ergodique avec cercle de 95% de confiance')\nplt.xlabel('X')\nplt.ylabel('Y')\nplt.legend()\nplt.grid(True)\nplt.show()",
      "metadata": {
        "trusted": true
      },
      "outputs": [],
      "execution_count": null
    },
    {
      "id": "d131dc45",
      "cell_type": "markdown",
      "source": "# Théorème central limite",
      "metadata": {}
    },
    {
      "id": "d639c3ca",
      "cell_type": "code",
      "source": "def central_limit_simulation(sailing_boat, num_steps):\n    for _ in range(num_steps):\n        sailing_boat.move()\n    return sailing_boat.get_position()\n\n# Effectuer plusieurs simulations pour le théorème central limite\nclt_samples = [central_limit_simulation(SailingBoat(markov_chain, vectors, noise_level), num_steps) for _ in range(1000)]\nclt_samples = np.array(clt_samples)\n",
      "metadata": {
        "trusted": true
      },
      "outputs": [],
      "execution_count": null
    },
    {
      "id": "edcc9e06",
      "cell_type": "markdown",
      "source": "Visualisation de l'histogramme et de la courbe gaussienne pour la coordonnée X",
      "metadata": {}
    },
    {
      "id": "665b9283",
      "cell_type": "code",
      "source": "plt.figure(figsize=(10, 6))\nplt.hist(clt_samples[:, 0], bins=30, density=True, alpha=0.6, color='g', label='Histogramme des positions finales (X)')\nmu, std = norm.fit(clt_samples[:, 0])\nxmin, xmax = plt.xlim()\nx = np.linspace(xmin, xmax, 100)\np = norm.pdf(x, mu, std)\nplt.plot(x, p, 'k', linewidth=2, label=f'Courbe normale ajustée (X) \\n$\\mu={mu:.2f}, \\sigma={std:.2f}$')\nplt.title('Histogramme et courbe gaussienne pour les positions finales (X)')\nplt.xlabel('X')\nplt.ylabel('Densité de probabilité')\nplt.legend()\nplt.grid(True)\nplt.show()",
      "metadata": {
        "trusted": true
      },
      "outputs": [],
      "execution_count": null
    },
    {
      "id": "8223b8cd",
      "cell_type": "markdown",
      "source": "Visualisation de l'histogramme et de la courbe gaussienne pour la coordonnée Y",
      "metadata": {}
    },
    {
      "id": "7d1623ac",
      "cell_type": "code",
      "source": "plt.figure(figsize=(10, 6))\nplt.hist(clt_samples[:, 1], bins=30, density=True, alpha=0.6, color='b', label='Histogramme des positions finales (Y)')\nmu, std = norm.fit(clt_samples[:, 1])\nxmin, xmax = plt.xlim()\nx = np.linspace(xmin, xmax, 100)\np = norm.pdf(x, mu, std)\nplt.plot(x, p, 'k', linewidth=2, label=f'Courbe normale ajustée (Y) \\n$\\mu={mu:.2f}, \\sigma={std:.2f}$')\nplt.title('Histogramme et courbe gaussienne pour les positions finales (Y)')\nplt.xlabel('Y')\nplt.ylabel('Densité de probabilité')\nplt.legend()\nplt.grid(True)\nplt.show()",
      "metadata": {
        "trusted": true
      },
      "outputs": [],
      "execution_count": null
    },
    {
      "id": "77e66df7",
      "cell_type": "markdown",
      "source": "# Temps nécessaire pour accoster en un certain point",
      "metadata": {}
    },
    {
      "id": "8e1c99bc",
      "cell_type": "code",
      "source": "def time_to_destination(sailing_boat, destination, tolerance=0.1):\n    time_steps = 0\n    while np.linalg.norm(sailing_boat.get_position() - destination) > tolerance:\n        sailing_boat.move()\n        time_steps += 1\n    return time_steps\n\ndestination = np.array([10.0, 10.0])\nnum_simulations = 1000\ntimes_to_destination = [time_to_destination(SailingBoat(markov_chain, vectors, noise_level), destination) for _ in range(num_simulations)]\n\n# Visualisation du temps nécessaire pour accoster en un certain point\nplt.figure(figsize=(10, 6))\nplt.hist(times_to_destination, bins=30, density=True, alpha=0.6, color='m', label='Histogramme du temps nécessaire pour accoster')\nmu, std = norm.fit(times_to_destination)\nxmin, xmax = plt.xlim()\nx = np.linspace(xmin, xmax, 100)\np = norm.pdf(x, mu, std)\nplt.plot(x, p, 'k', linewidth=2, label=f'Courbe normale ajustée \\n$\\mu={mu:.2f}, \\sigma={std:.2f}$')\nplt.title('Histogramme du temps nécessaire pour accoster en un certain point')\nplt.xlabel('Temps (nombre de pas)')\nplt.ylabel('Densité de probabilité')\nplt.legend()\nplt.grid(True)\nplt.show()",
      "metadata": {
        "trusted": true
      },
      "outputs": [],
      "execution_count": null
    },
    {
      "id": "2f3a4cd3",
      "cell_type": "markdown",
      "source": "# Temps nécessaire pour revenir au point de départ",
      "metadata": {}
    },
    {
      "id": "1104f037-1655-4434-9c14-9e7473a4f375",
      "cell_type": "code",
      "source": "def time_to_return(sailing_boat, max_distance, tolerance=0.1):\n    initial_position = sailing_boat.get_position()\n    time_steps = 0\n    while np.linalg.norm(sailing_boat.get_position() - initial_position) < max_distance:\n        sailing_boat.move()\n    while np.linalg.norm(sailing_boat.get_position()) > tolerance:\n        sailing_boat.move()\n        time_steps += 1\n    return time_steps\n\nmax_distance = 10.0\nnum_simulations = 1000\ntimes_to_return = [time_to_return(SailingBoat(markov_chain, vectors, noise_level), max_distance) for _ in range(num_simulations)]\n\n# Visualisation du temps nécessaire pour revenir au point de départ\nplt.figure(figsize=(10, 6))\nplt.hist(times_to_return, bins=30, density=True, alpha=0.6, color='c', label='Histogramme du temps nécessaire pour revenir au point de départ')\nmu, std = norm.fit(times_to_return)\nxmin, xmax = plt.xlim()\nx = np.linspace(xmin, xmax, 100)\np = norm.pdf(x, mu, std)\nplt.plot(x, p, 'k', linewidth=2, label=f'Courbe normale ajustée \\n$\\mu={mu:.2f}, \\sigma={std:.2f}$')\nplt.title('Histogramme du temps nécessaire pour revenir au point de départ')\nplt.xlabel('Temps (nombre de pas)')\nplt.ylabel('Densité de probabilité')\nplt.legend()\nplt.grid(True)\nplt.show()",
      "metadata": {
        "trusted": true
      },
      "outputs": [],
      "execution_count": null
    },
    {
      "id": "cb448640",
      "cell_type": "markdown",
      "source": "$\\mathcal{FIN}$.",
      "metadata": {}
    }
  ]
}